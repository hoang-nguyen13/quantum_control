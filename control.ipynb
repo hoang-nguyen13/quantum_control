{
 "cells": [
  {
   "cell_type": "code",
   "execution_count": 232,
   "metadata": {},
   "outputs": [
    {
     "data": {
      "image/png": "[encoded data removed]",
      "text/plain": [
       "<Figure size 576x576 with 1 Axes>"
      ]
     },
     "metadata": {
      "needs_background": "light"
     },
     "output_type": "display_data"
    },
    {
     "data": {
      "text/plain": [
       "156.2548447259523"
      ]
     },
     "execution_count": 232,
     "metadata": {},
     "output_type": "execute_result"
    }
   ],
   "source": [
    "import numpy as np\n",
    "from scipy.integrate import solve_ivp\n",
    "import matplotlib.pyplot as plt\n",
    "\n",
    "# Constants\n",
    "gamma = 1 / 23.9                                                                            #done\n",
    "Gamma = 1 / 1.94                                                                            #done\n",
    "if gamma != Gamma:\n",
    "    z0 = -gamma / (2 * (Gamma - gamma))                                                     #done\n",
    "    y_threshold = (2 * np.pi * (2 * Gamma - gamma**2)) / abs(gamma * (gamma - 2 * Gamma))\n",
    "\n",
    "# Singular Control Function u_s(y, z)\n",
    "def u_s(y):                                                                                 #done\n",
    "    epsilon = 1e-6  # Small number to prevent division by zero                              #done\n",
    "    numerator = -y * gamma * (Gamma - 2 * gamma) - 2 * y * z0 * (gamma**2 - Gamma**2)       #done\n",
    "    denominator = 2 * (Gamma - gamma) * (y**2 - z0**2) - gamma * z0                         #done\n",
    "    # Check if the denominator is too small\n",
    "    if abs(denominator) < epsilon:                                                          #done\n",
    "        return 0  # Return a default value (e.g., 0) to handle this case\n",
    "    return numerator / (denominator + epsilon)                                              #done\n",
    "\n",
    "# Bang Pulse Control\n",
    "def bang_pulse_control(max_amplitude):\n",
    "    # Apply a constant control of maximum amplitude\n",
    "    return max_amplitude\n",
    "\n",
    "\n",
    "def switching_function(y, z):\n",
    "    # Example placeholder logic for the switching function\n",
    "    # This logic should be replaced with the actual criteria described in the paper\n",
    "    \n",
    "    # Define a threshold for switching\n",
    "    switching_threshold = ...  # Define this based on paper's criteria\n",
    "\n",
    "    # Calculate a value based on the current state (y, z)\n",
    "    # This is just an example; replace it with the actual calculation\n",
    "    calculated_value = ...  # Some function of y and z\n",
    "\n",
    "    # Return the calculated value for use in control decision\n",
    "    return calculated_value - switching_threshold\n",
    "\n",
    "\n",
    "def control_function(y,z):\n",
    "    max_amplitude = 30\n",
    "    # Condition for switching to singular control\n",
    "    if z <= 0 and y < y_threshold:\n",
    "        return u_s(y)\n",
    "    else:\n",
    "        return bang_pulse_control(max_amplitude)\n",
    "\n",
    "\n",
    "\n",
    "# Differential Equations\n",
    "def bloch_equations(t, yz):                                                                 #done\n",
    "    y, z = yz                                                                               #done\n",
    "    u = control_function(y,z)                                                           #done\n",
    "    dydt = -Gamma * y + u * (-z)                                                            #done\n",
    "    dzdt = gamma - gamma * z + u * y                                                        #done\n",
    "    return [dydt, dzdt]                                                                     #done\n",
    "\n",
    "# Initial Conditions and Time Span\n",
    "initial_conditions = [0, 1]  # y = 0, z = 1                                                 #done\n",
    "t_span = [0, 10]  # Adjust the end time as needed\n",
    "t_eval = np.linspace(t_span[0], t_span[1], 3000)                                            #done\n",
    "\n",
    "# Solve the Differential Equations\n",
    "solution = solve_ivp(bloch_equations, t_span, initial_conditions, t_eval=t_eval)            #done\n",
    "\n",
    "# Plot the Results\n",
    "plt.figure(figsize=(8, 8))  # Width, height in inches (adjust as needed)\n",
    "plt.plot(solution.y[0], solution.y[1])\n",
    "plt.xlabel('y')\n",
    "plt.ylabel('z')\n",
    "plt.title('Trajectory in the y-z Plane with Left Path Control Strategy')\n",
    "plt.grid(True)\n",
    "plt.xlim(-1.2, 1.2)  # Set x-axis limits\n",
    "plt.ylim(-1.2, 1.2)  # Set y-axis limits\n",
    "plt.show()\n",
    "\n",
    "y_threshold\n"
   ]
  },
  {
   "cell_type": "code",
   "execution_count": 233,
   "metadata": {},
   "outputs": [
    {
     "data": {
      "image/png": "[encoded data removed]",
      "text/plain": [
       "<Figure size 576x576 with 1 Axes>"
      ]
     },
     "metadata": {
      "needs_background": "light"
     },
     "output_type": "display_data"
    }
   ],
   "source": [
    "import numpy as np\n",
    "from scipy.integrate import solve_ivp\n",
    "import matplotlib.pyplot as plt\n",
    "\n",
    "# Constants\n",
    "Gamma = 1 / 1.94\n",
    "gamma = 1 / 23.9\n",
    "switching_threshold = 1e-6  # This is a small threshold for numerical stability\n",
    "if gamma != Gamma:\n",
    "    z0 = -gamma / (2 * (Gamma - gamma))                                                   \n",
    "    y_threshold = (2 * np.pi * (2 * Gamma - gamma**2)) / abs(gamma * (gamma - 2 * Gamma))\n",
    "\n",
    "# Define the vector fields F0, F1, and V\n",
    "def F0(y, z):\n",
    "    return np.array([-Gamma * y, gamma - gamma * z])\n",
    "\n",
    "def F1(y, z):\n",
    "    return np.array([-z, y])\n",
    "\n",
    "def V(y, z):\n",
    "    return np.array([-gamma + gamma * z - Gamma * z, -Gamma * y + gamma * y])\n",
    "\n",
    "# Define the switching function Phi and its derivative\n",
    "def switching_function(P, y, z):\n",
    "    #print(-P[1] * z + P[0] * y)\n",
    "    return -P[1] * z + P[0] * y\n",
    "\n",
    "def derivative_switching_function(P, y, z):\n",
    "    V_val = V(y, z)\n",
    "    print(np.dot(P,V_val))\n",
    "    return np.dot(P, V_val)\n",
    "\n",
    "# Define the singular control function u_s (placeholder, to be defined based on higher-order conditions)\n",
    "# Singular Control Function u_s(y, z)\n",
    "def u_s(y):                                                                                 #done\n",
    "    epsilon = 1e-6  # Small number to prevent division by zero                              #done\n",
    "    numerator = -y * gamma * (Gamma - 2 * gamma) - 2 * y * z0 * (gamma**2 - Gamma**2)       #done\n",
    "    denominator = 2 * (Gamma - gamma) * (y**2 - z0**2) - gamma * z0                         #done\n",
    "    # Check if the denominator is too small\n",
    "    if abs(denominator) < epsilon:                                                          #done\n",
    "        return 0  # Return a default value (e.g., 0) to handle this case\n",
    "    return numerator / (denominator + epsilon)                                              #done\n",
    "\n",
    "\n",
    "# Bang Pulse Control\n",
    "def bang_pulse_control():\n",
    "    # Apply a constant control of maximum amplitude\n",
    "    return 2 * np.pi**1.5\n",
    "\n",
    "# Control function that uses the switching function to determine the control mode\n",
    "def control_function(P, y, z):\n",
    "    if switching_function(P, y, z) < switching_threshold and derivative_switching_function(P, y, z) == switching_threshold:\n",
    "        # Apply singular control\n",
    "        return u_s(y)\n",
    "    else:\n",
    "        # Apply bang-bang control\n",
    "        return bang_pulse_control()\n",
    "\n",
    "# Define the combined system of differential equations\n",
    "def bloch_equations(t, yzP):\n",
    "    dF0_dy = -Gamma\n",
    "    dF0_dz = -gamma\n",
    "    dF1_dy = 1\n",
    "    dF1_dz = -1\n",
    "    y, z, Py, Pz = yzP\n",
    "    P = np.array([Py, Pz])\n",
    "    u = control_function(P, y, z)\n",
    "\n",
    "    # F0_val = F0(y, z)  # Uncontrolled dynamics\n",
    "    # F1_val = F1(y, z)  # Control influenced dynamics\n",
    "\n",
    "    # Hamiltonian's partial derivatives\n",
    "    dH_dy = -(Py * dF0_dy + Pz * dF0_dz + u * (Py * dF1_dy + Pz * dF1_dz))\n",
    "    dH_dz = -(Py * dF0_dz + Pz * dF0_dz + u * (Py * dF1_dz + Pz * dF1_dz))\n",
    "\n",
    "    # Adjoint equations\n",
    "    dPydt = -dH_dy\n",
    "    dPzdt = -dH_dz\n",
    "\n",
    "    dydt, dzdt = F0(y, z) + u * F1(y, z)\n",
    "    return [dydt, dzdt, dPydt, dPzdt]\n",
    "\n",
    "# Initial conditions for y, z, Py, Pz\n",
    "initial_conditions = [0, 1, 0.00001, 0.00001]  # Modify as needed\n",
    "\n",
    "# Time span for the simulation\n",
    "t_span = [0, 10]  # Modify as needed\n",
    "t_eval = np.linspace(t_span[0], t_span[1], 3000)\n",
    "\n",
    "# Solve the differential equations\n",
    "solution = solve_ivp(bloch_equations, t_span, initial_conditions, t_eval=t_eval)\n",
    "\n",
    "# Plot the Results\n",
    "plt.figure(figsize=(8, 8))\n",
    "plt.plot(solution.y[0], solution.y[1])\n",
    "plt.xlabel('y')\n",
    "plt.ylabel('z')\n",
    "plt.title('Trajectory in the y-z Plane with Counter Clockwise Control Strategy')\n",
    "plt.grid(True)\n",
    "plt.xlim(-1.2, 1.2)\n",
    "plt.ylim(-1.2, 1.2)\n",
    "plt.show()\n"
   ]
  },
  {
   "cell_type": "code",
   "execution_count": 234,
   "metadata": {},
   "outputs": [
    {
     "data": {
      "text/plain": [
       "(array([ 0.        , -0.03709415, -0.07407349, ..., -0.00363475,\n",
       "        -0.00363354, -0.0036325 ]),\n",
       " array([1.00000000e+00, 9.99311018e-01, 9.97246728e-01, ...,\n",
       "        1.33268208e-04, 1.37815590e-04, 1.42403198e-04]))"
      ]
     },
     "execution_count": 234,
     "metadata": {},
     "output_type": "execute_result"
    }
   ],
   "source": [
    "solution.y[0],solution.y[1]"
   ]
  }
 ],
 "metadata": {
  "kernelspec": {
   "display_name": "base",
   "language": "python",
   "name": "python3"
  },
  "language_info": {
   "codemirror_mode": {
    "name": "ipython",
    "version": 3
   },
   "file_extension": ".py",
   "mimetype": "text/x-python",
   "name": "python",
   "nbconvert_exporter": "python",
   "pygments_lexer": "ipython3",
   "version": "3.9.12"
  }
 },
 "nbformat": 4,
 "nbformat_minor": 2
}
